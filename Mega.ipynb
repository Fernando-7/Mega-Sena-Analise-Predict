{
 "cells": [
  {
   "cell_type": "code",
   "execution_count": 1,
   "id": "e858a708",
   "metadata": {},
   "outputs": [
    {
     "name": "stderr",
     "output_type": "stream",
     "text": [
      "'#pip' não é reconhecido como um comando interno\n",
      "ou externo, um programa operável ou um arquivo em lotes.\n"
     ]
    }
   ],
   "source": [
    "#!pip install --upgrade pip\n",
    "!#pip install pandas --quiet\n",
    "#!pip install numpy --quiet\n",
    "#!python -m pip install scipy --quiet\n",
    "#!pip install tensorflow --quiet\n",
    "#!pip install -U scikit-learn --quiet\n",
    "#!python -m pip install -U matplotlib --quiet\n",
    "#!pip install xlrd --quiet\n",
    "#!pip install openpyxl --quiet\n",
    "#!pip install xgboost --quiet\n",
    "#!pip install lightgbm --quiet"
   ]
  },
  {
   "cell_type": "code",
   "execution_count": 2,
   "id": "da181763",
   "metadata": {},
   "outputs": [],
   "source": [
    "import pandas as pd\n",
    "import numpy as np\n",
    "from scipy.stats import zscore\n",
    "import matplotlib.pyplot as plt\n",
    "import math\n",
    "from keras.models import Sequential\n",
    "from keras.layers import Dense\n",
    "from keras.layers import LSTM, Conv1D, Dropout\n",
    "from keras.callbacks import ReduceLROnPlateau, ModelCheckpoint, EarlyStopping\n",
    "from sklearn.preprocessing import MinMaxScaler\n",
    "from sklearn.metrics import mean_squared_error\n",
    "import scipy.stats as st\n",
    "from xgboost import XGBRegressor\n",
    "from lightgbm import LGBMRegressor\n",
    "from sklearn.ensemble import RandomForestRegressor\n",
    "from sklearn.datasets import make_regression\n",
    "from sklearn.model_selection import train_test_split\n",
    "import re\n",
    "import math\n",
    "from sklearn.metrics import mean_squared_error\n",
    "np.random.seed(7)"
   ]
  },
  {
   "cell_type": "code",
   "execution_count": 3,
   "id": "74b297f7",
   "metadata": {},
   "outputs": [],
   "source": [
    "# parametros para o método de agrupamento de sequencias\n",
    "grupo = 12\n",
    "valor_total = 60"
   ]
  },
  {
   "cell_type": "code",
   "execution_count": 4,
   "id": "1b739161",
   "metadata": {},
   "outputs": [],
   "source": [
    "# retorna uma lista dos grupos referente a cada número da sequência\n",
    "def agrupador(lista,grupo,valor_total):\n",
    "    resultado = []\n",
    "    for val in lista:\n",
    "        for x in range(1,(grupo+1)):\n",
    "            if val <= ((valor_total/grupo)*x):\n",
    "                resultado.append(x)\n",
    "                break\n",
    "    return resultado"
   ]
  },
  {
   "cell_type": "markdown",
   "id": "166f2ae0",
   "metadata": {},
   "source": [
    "### Pegando resultados da Mega da Virada (2005-2020)"
   ]
  },
  {
   "cell_type": "code",
   "execution_count": 5,
   "id": "4941bd43",
   "metadata": {},
   "outputs": [
    {
     "name": "stdout",
     "output_type": "stream",
     "text": [
      "13\n"
     ]
    }
   ],
   "source": [
    "df_virada = pd.read_csv('Virada 2009-2021.csv')\n",
    "df_virada['Data'] = [str(val).strip().replace('/','-') for val in df_virada['Data'].tolist()]\n",
    "df_virada['Data'] = pd.to_datetime(df_virada['Data'],dayfirst=True)\n",
    "df_virada.sort_values(by=['Data'],inplace=True)\n",
    "print(len(df_virada))"
   ]
  },
  {
   "cell_type": "code",
   "execution_count": 6,
   "id": "2320c8e2",
   "metadata": {},
   "outputs": [
    {
     "data": {
      "text/plain": [
       "13"
      ]
     },
     "execution_count": 6,
     "metadata": {},
     "output_type": "execute_result"
    }
   ],
   "source": [
    "len(df_virada)"
   ]
  },
  {
   "cell_type": "markdown",
   "id": "9dd0c363",
   "metadata": {},
   "source": [
    "### Pegando resultados das Megas Senas (2021-2022)"
   ]
  },
  {
   "cell_type": "code",
   "execution_count": 7,
   "id": "8652074e",
   "metadata": {},
   "outputs": [],
   "source": [
    "df_mega_2021 = pd.read_csv('2021.csv')\n",
    "df_mega_2022 = pd.read_csv('2022.csv')\n",
    "df_mega = pd.concat([df_mega_2021,df_mega_2022])\n",
    "df_mega.reset_index(inplace=True)\n",
    "df_mega['Data'] = [str(val).strip().replace('/','-') for val in df_mega['Data'].tolist()]\n",
    "df_mega['Data'] = pd.to_datetime(df_mega['Data'],dayfirst=True)\n",
    "df_mega.drop(columns=['index'],inplace=True)\n",
    "df_mega.sort_values(by=['Data'],inplace=True)"
   ]
  },
  {
   "cell_type": "code",
   "execution_count": 8,
   "id": "ff8c15d7",
   "metadata": {},
   "outputs": [
    {
     "data": {
      "text/plain": [
       "204"
      ]
     },
     "execution_count": 8,
     "metadata": {},
     "output_type": "execute_result"
    }
   ],
   "source": [
    "#df_mega.set_index('Data',inplace=True)\n",
    "len(df_mega)"
   ]
  },
  {
   "cell_type": "markdown",
   "id": "f64e028a",
   "metadata": {},
   "source": [
    "### Criando dataframe completo (resultados megas senas e megas da virada)"
   ]
  },
  {
   "cell_type": "markdown",
   "id": "16b66763",
   "metadata": {},
   "source": [
    "### Dataframes por sequência em ordem de Sorteio"
   ]
  },
  {
   "cell_type": "code",
   "execution_count": 9,
   "id": "cffd4b66",
   "metadata": {},
   "outputs": [
    {
     "name": "stdout",
     "output_type": "stream",
     "text": [
      "217\n"
     ]
    }
   ],
   "source": [
    "df_total = pd.concat([df_mega,df_virada])\n",
    "df_total['Data'] = [str(val).strip().replace('/','-') for val in df_total['Data'].tolist()]\n",
    "df_total['Data'] = pd.to_datetime(df_total['Data'],dayfirst=True)\n",
    "df_total = df_total.sort_values(by='Data')\n",
    "df_mega.set_index('Data',inplace=True)\n",
    "df_virada.set_index('Data',inplace=True)\n",
    "df_total.set_index('Data',inplace=True)\n",
    "print(len(df_total))"
   ]
  },
  {
   "cell_type": "markdown",
   "id": "0d27b8e3",
   "metadata": {},
   "source": [
    "### Dataframes por sequência em ordem crescente"
   ]
  },
  {
   "cell_type": "code",
   "execution_count": 10,
   "id": "f2cce268",
   "metadata": {},
   "outputs": [],
   "source": [
    "df_mega_ord = pd.DataFrame([sorted(list(row)) for index, row in df_mega.iterrows()],columns=['bola 1', 'bola 2','bola 3','bola 4','bola 5','bola 6'], index=df_mega.index)\n",
    "df_virada_ord = pd.DataFrame([sorted(list(row))for index, row in df_virada.iterrows()],columns=['bola 1', 'bola 2','bola 3','bola 4','bola 5','bola 6'],index=df_virada.index)\n",
    "df_total_ord = pd.DataFrame([sorted(list(row))for index, row in df_total.iterrows()],columns=['bola 1', 'bola 2','bola 3','bola 4','bola 5','bola 6'],index=df_total.index)"
   ]
  },
  {
   "cell_type": "code",
   "execution_count": 11,
   "id": "27ec95d3",
   "metadata": {},
   "outputs": [
    {
     "data": {
      "text/html": [
       "<div>\n",
       "<style scoped>\n",
       "    .dataframe tbody tr th:only-of-type {\n",
       "        vertical-align: middle;\n",
       "    }\n",
       "\n",
       "    .dataframe tbody tr th {\n",
       "        vertical-align: top;\n",
       "    }\n",
       "\n",
       "    .dataframe thead th {\n",
       "        text-align: right;\n",
       "    }\n",
       "</style>\n",
       "<table border=\"1\" class=\"dataframe\">\n",
       "  <thead>\n",
       "    <tr style=\"text-align: right;\">\n",
       "      <th></th>\n",
       "      <th>bola 1</th>\n",
       "      <th>bola 2</th>\n",
       "      <th>bola 3</th>\n",
       "      <th>bola 4</th>\n",
       "      <th>bola 5</th>\n",
       "      <th>bola 6</th>\n",
       "    </tr>\n",
       "    <tr>\n",
       "      <th>Data</th>\n",
       "      <th></th>\n",
       "      <th></th>\n",
       "      <th></th>\n",
       "      <th></th>\n",
       "      <th></th>\n",
       "      <th></th>\n",
       "    </tr>\n",
       "  </thead>\n",
       "  <tbody>\n",
       "    <tr>\n",
       "      <th>2009-12-31</th>\n",
       "      <td>10</td>\n",
       "      <td>27</td>\n",
       "      <td>40</td>\n",
       "      <td>46</td>\n",
       "      <td>49</td>\n",
       "      <td>58</td>\n",
       "    </tr>\n",
       "    <tr>\n",
       "      <th>2010-12-31</th>\n",
       "      <td>2</td>\n",
       "      <td>10</td>\n",
       "      <td>34</td>\n",
       "      <td>37</td>\n",
       "      <td>43</td>\n",
       "      <td>50</td>\n",
       "    </tr>\n",
       "    <tr>\n",
       "      <th>2011-12-31</th>\n",
       "      <td>3</td>\n",
       "      <td>4</td>\n",
       "      <td>29</td>\n",
       "      <td>36</td>\n",
       "      <td>45</td>\n",
       "      <td>55</td>\n",
       "    </tr>\n",
       "    <tr>\n",
       "      <th>2012-12-31</th>\n",
       "      <td>14</td>\n",
       "      <td>32</td>\n",
       "      <td>33</td>\n",
       "      <td>36</td>\n",
       "      <td>41</td>\n",
       "      <td>52</td>\n",
       "    </tr>\n",
       "    <tr>\n",
       "      <th>2013-12-31</th>\n",
       "      <td>20</td>\n",
       "      <td>30</td>\n",
       "      <td>36</td>\n",
       "      <td>38</td>\n",
       "      <td>47</td>\n",
       "      <td>53</td>\n",
       "    </tr>\n",
       "    <tr>\n",
       "      <th>...</th>\n",
       "      <td>...</td>\n",
       "      <td>...</td>\n",
       "      <td>...</td>\n",
       "      <td>...</td>\n",
       "      <td>...</td>\n",
       "      <td>...</td>\n",
       "    </tr>\n",
       "    <tr>\n",
       "      <th>2022-10-18</th>\n",
       "      <td>14</td>\n",
       "      <td>17</td>\n",
       "      <td>18</td>\n",
       "      <td>28</td>\n",
       "      <td>30</td>\n",
       "      <td>44</td>\n",
       "    </tr>\n",
       "    <tr>\n",
       "      <th>2022-10-20</th>\n",
       "      <td>1</td>\n",
       "      <td>5</td>\n",
       "      <td>18</td>\n",
       "      <td>49</td>\n",
       "      <td>55</td>\n",
       "      <td>56</td>\n",
       "    </tr>\n",
       "    <tr>\n",
       "      <th>2022-10-22</th>\n",
       "      <td>10</td>\n",
       "      <td>14</td>\n",
       "      <td>17</td>\n",
       "      <td>18</td>\n",
       "      <td>23</td>\n",
       "      <td>30</td>\n",
       "    </tr>\n",
       "    <tr>\n",
       "      <th>2022-10-26</th>\n",
       "      <td>17</td>\n",
       "      <td>18</td>\n",
       "      <td>20</td>\n",
       "      <td>37</td>\n",
       "      <td>45</td>\n",
       "      <td>53</td>\n",
       "    </tr>\n",
       "    <tr>\n",
       "      <th>2022-10-29</th>\n",
       "      <td>28</td>\n",
       "      <td>36</td>\n",
       "      <td>39</td>\n",
       "      <td>44</td>\n",
       "      <td>56</td>\n",
       "      <td>60</td>\n",
       "    </tr>\n",
       "  </tbody>\n",
       "</table>\n",
       "<p>217 rows × 6 columns</p>\n",
       "</div>"
      ],
      "text/plain": [
       "            bola 1  bola 2  bola 3  bola 4  bola 5  bola 6\n",
       "Data                                                      \n",
       "2009-12-31      10      27      40      46      49      58\n",
       "2010-12-31       2      10      34      37      43      50\n",
       "2011-12-31       3       4      29      36      45      55\n",
       "2012-12-31      14      32      33      36      41      52\n",
       "2013-12-31      20      30      36      38      47      53\n",
       "...            ...     ...     ...     ...     ...     ...\n",
       "2022-10-18      14      17      18      28      30      44\n",
       "2022-10-20       1       5      18      49      55      56\n",
       "2022-10-22      10      14      17      18      23      30\n",
       "2022-10-26      17      18      20      37      45      53\n",
       "2022-10-29      28      36      39      44      56      60\n",
       "\n",
       "[217 rows x 6 columns]"
      ]
     },
     "execution_count": 11,
     "metadata": {},
     "output_type": "execute_result"
    }
   ],
   "source": [
    "df_total_ord"
   ]
  },
  {
   "cell_type": "markdown",
   "id": "d140f200",
   "metadata": {},
   "source": [
    "# Grupos de Frequência"
   ]
  },
  {
   "cell_type": "markdown",
   "id": "6e229acf",
   "metadata": {},
   "source": [
    "### Criando Dataframes de grupos de sequências (Ordem de sorteio)"
   ]
  },
  {
   "cell_type": "code",
   "execution_count": 12,
   "id": "9bd71b3d",
   "metadata": {},
   "outputs": [],
   "source": [
    "df_mega_seq = pd.DataFrame([agrupador(list(row),grupo,valor_total) for index, row in df_mega.iterrows()],columns=['bola 1', 'bola 2','bola 3','bola 4','bola 5','bola 6'],index=df_mega.index)\n",
    "df_virada_seq = pd.DataFrame([agrupador(list(row),grupo,valor_total) for index, row in df_virada.iterrows()],columns=['bola 1', 'bola 2','bola 3','bola 4','bola 5','bola 6'],index=df_virada.index)\n",
    "df_total_seq = pd.DataFrame([agrupador(list(row),grupo,valor_total) for index, row in df_total.iterrows()],columns=['bola 1', 'bola 2','bola 3','bola 4','bola 5','bola 6'],index=df_total.index)"
   ]
  },
  {
   "cell_type": "markdown",
   "id": "b262a31a",
   "metadata": {},
   "source": [
    "### Criando Dataframes de grupos de sequências (Ordem de crescente)"
   ]
  },
  {
   "cell_type": "code",
   "execution_count": 13,
   "id": "49ca32e0",
   "metadata": {},
   "outputs": [],
   "source": [
    "df_mega_seq_ord = pd.DataFrame([sorted(agrupador(list(row),grupo,valor_total)) for index, row in df_mega.iterrows()],columns=['bola 1', 'bola 2','bola 3','bola 4','bola 5','bola 6'],index=df_mega.index)\n",
    "df_virada_seq_ord = pd.DataFrame([sorted(agrupador(list(row),grupo,valor_total)) for index, row in df_virada.iterrows()],columns=['bola 1', 'bola 2','bola 3','bola 4','bola 5','bola 6'],index=df_virada.index)\n",
    "df_total_seq_ord = pd.DataFrame([sorted(agrupador(list(row),grupo,valor_total)) for index, row in df_total.iterrows()],columns=['bola 1', 'bola 2','bola 3','bola 4','bola 5','bola 6'],index=df_total.index)"
   ]
  },
  {
   "cell_type": "code",
   "execution_count": 14,
   "id": "8afc2cef",
   "metadata": {},
   "outputs": [],
   "source": [
    "#df_total = df_total_ord"
   ]
  },
  {
   "cell_type": "markdown",
   "id": "fdfe5ac4",
   "metadata": {},
   "source": [
    "### Análise de correlações"
   ]
  },
  {
   "cell_type": "code",
   "execution_count": 15,
   "id": "b2082b2c",
   "metadata": {},
   "outputs": [],
   "source": [
    "# normalizando datasets com o méthodo z-score\n",
    "norm_mega = df_mega.apply(zscore)\n",
    "norm_virada = df_virada.apply(zscore)\n",
    "norm_total = df_total.apply(zscore)"
   ]
  },
  {
   "cell_type": "code",
   "execution_count": 16,
   "id": "7c2acd9a",
   "metadata": {},
   "outputs": [
    {
     "data": {
      "text/html": [
       "<div>\n",
       "<style scoped>\n",
       "    .dataframe tbody tr th:only-of-type {\n",
       "        vertical-align: middle;\n",
       "    }\n",
       "\n",
       "    .dataframe tbody tr th {\n",
       "        vertical-align: top;\n",
       "    }\n",
       "\n",
       "    .dataframe thead th {\n",
       "        text-align: right;\n",
       "    }\n",
       "</style>\n",
       "<table border=\"1\" class=\"dataframe\">\n",
       "  <thead>\n",
       "    <tr style=\"text-align: right;\">\n",
       "      <th></th>\n",
       "      <th>bola 1</th>\n",
       "      <th>bola 2</th>\n",
       "      <th>bola 3</th>\n",
       "      <th>bola 4</th>\n",
       "      <th>bola 5</th>\n",
       "      <th>bola 6</th>\n",
       "    </tr>\n",
       "  </thead>\n",
       "  <tbody>\n",
       "    <tr>\n",
       "      <th>bola 1</th>\n",
       "      <td>1.000000</td>\n",
       "      <td>-0.038660</td>\n",
       "      <td>-0.094408</td>\n",
       "      <td>-0.019710</td>\n",
       "      <td>0.134793</td>\n",
       "      <td>-0.102663</td>\n",
       "    </tr>\n",
       "    <tr>\n",
       "      <th>bola 2</th>\n",
       "      <td>-0.038660</td>\n",
       "      <td>1.000000</td>\n",
       "      <td>-0.153564</td>\n",
       "      <td>-0.062506</td>\n",
       "      <td>-0.080573</td>\n",
       "      <td>0.023834</td>\n",
       "    </tr>\n",
       "    <tr>\n",
       "      <th>bola 3</th>\n",
       "      <td>-0.094408</td>\n",
       "      <td>-0.153564</td>\n",
       "      <td>1.000000</td>\n",
       "      <td>-0.036728</td>\n",
       "      <td>-0.030579</td>\n",
       "      <td>0.048576</td>\n",
       "    </tr>\n",
       "    <tr>\n",
       "      <th>bola 4</th>\n",
       "      <td>-0.019710</td>\n",
       "      <td>-0.062506</td>\n",
       "      <td>-0.036728</td>\n",
       "      <td>1.000000</td>\n",
       "      <td>-0.017414</td>\n",
       "      <td>-0.053209</td>\n",
       "    </tr>\n",
       "    <tr>\n",
       "      <th>bola 5</th>\n",
       "      <td>0.134793</td>\n",
       "      <td>-0.080573</td>\n",
       "      <td>-0.030579</td>\n",
       "      <td>-0.017414</td>\n",
       "      <td>1.000000</td>\n",
       "      <td>0.013190</td>\n",
       "    </tr>\n",
       "    <tr>\n",
       "      <th>bola 6</th>\n",
       "      <td>-0.102663</td>\n",
       "      <td>0.023834</td>\n",
       "      <td>0.048576</td>\n",
       "      <td>-0.053209</td>\n",
       "      <td>0.013190</td>\n",
       "      <td>1.000000</td>\n",
       "    </tr>\n",
       "  </tbody>\n",
       "</table>\n",
       "</div>"
      ],
      "text/plain": [
       "          bola 1    bola 2    bola 3    bola 4    bola 5    bola 6\n",
       "bola 1  1.000000 -0.038660 -0.094408 -0.019710  0.134793 -0.102663\n",
       "bola 2 -0.038660  1.000000 -0.153564 -0.062506 -0.080573  0.023834\n",
       "bola 3 -0.094408 -0.153564  1.000000 -0.036728 -0.030579  0.048576\n",
       "bola 4 -0.019710 -0.062506 -0.036728  1.000000 -0.017414 -0.053209\n",
       "bola 5  0.134793 -0.080573 -0.030579 -0.017414  1.000000  0.013190\n",
       "bola 6 -0.102663  0.023834  0.048576 -0.053209  0.013190  1.000000"
      ]
     },
     "execution_count": 16,
     "metadata": {},
     "output_type": "execute_result"
    }
   ],
   "source": [
    "# Analisando as correlações entre colunas do dataframe da megasena\n",
    "norm_mega.corr()\n",
    "#Melhores Correlações: 2-3 | 3-4 | 1-2 | 5-6"
   ]
  },
  {
   "cell_type": "code",
   "execution_count": 17,
   "id": "710d8eb6",
   "metadata": {},
   "outputs": [
    {
     "data": {
      "text/html": [
       "<div>\n",
       "<style scoped>\n",
       "    .dataframe tbody tr th:only-of-type {\n",
       "        vertical-align: middle;\n",
       "    }\n",
       "\n",
       "    .dataframe tbody tr th {\n",
       "        vertical-align: top;\n",
       "    }\n",
       "\n",
       "    .dataframe thead th {\n",
       "        text-align: right;\n",
       "    }\n",
       "</style>\n",
       "<table border=\"1\" class=\"dataframe\">\n",
       "  <thead>\n",
       "    <tr style=\"text-align: right;\">\n",
       "      <th></th>\n",
       "      <th>bola 1</th>\n",
       "      <th>bola 2</th>\n",
       "      <th>bola 3</th>\n",
       "      <th>bola 4</th>\n",
       "      <th>bola 5</th>\n",
       "      <th>bola 6</th>\n",
       "    </tr>\n",
       "  </thead>\n",
       "  <tbody>\n",
       "    <tr>\n",
       "      <th>bola 1</th>\n",
       "      <td>1.000000</td>\n",
       "      <td>0.196252</td>\n",
       "      <td>0.012690</td>\n",
       "      <td>0.045619</td>\n",
       "      <td>0.022403</td>\n",
       "      <td>0.224844</td>\n",
       "    </tr>\n",
       "    <tr>\n",
       "      <th>bola 2</th>\n",
       "      <td>0.196252</td>\n",
       "      <td>1.000000</td>\n",
       "      <td>-0.087129</td>\n",
       "      <td>-0.103377</td>\n",
       "      <td>-0.283062</td>\n",
       "      <td>0.115291</td>\n",
       "    </tr>\n",
       "    <tr>\n",
       "      <th>bola 3</th>\n",
       "      <td>0.012690</td>\n",
       "      <td>-0.087129</td>\n",
       "      <td>1.000000</td>\n",
       "      <td>0.408696</td>\n",
       "      <td>-0.241983</td>\n",
       "      <td>0.515805</td>\n",
       "    </tr>\n",
       "    <tr>\n",
       "      <th>bola 4</th>\n",
       "      <td>0.045619</td>\n",
       "      <td>-0.103377</td>\n",
       "      <td>0.408696</td>\n",
       "      <td>1.000000</td>\n",
       "      <td>-0.023216</td>\n",
       "      <td>-0.059225</td>\n",
       "    </tr>\n",
       "    <tr>\n",
       "      <th>bola 5</th>\n",
       "      <td>0.022403</td>\n",
       "      <td>-0.283062</td>\n",
       "      <td>-0.241983</td>\n",
       "      <td>-0.023216</td>\n",
       "      <td>1.000000</td>\n",
       "      <td>-0.359677</td>\n",
       "    </tr>\n",
       "    <tr>\n",
       "      <th>bola 6</th>\n",
       "      <td>0.224844</td>\n",
       "      <td>0.115291</td>\n",
       "      <td>0.515805</td>\n",
       "      <td>-0.059225</td>\n",
       "      <td>-0.359677</td>\n",
       "      <td>1.000000</td>\n",
       "    </tr>\n",
       "  </tbody>\n",
       "</table>\n",
       "</div>"
      ],
      "text/plain": [
       "          bola 1    bola 2    bola 3    bola 4    bola 5    bola 6\n",
       "bola 1  1.000000  0.196252  0.012690  0.045619  0.022403  0.224844\n",
       "bola 2  0.196252  1.000000 -0.087129 -0.103377 -0.283062  0.115291\n",
       "bola 3  0.012690 -0.087129  1.000000  0.408696 -0.241983  0.515805\n",
       "bola 4  0.045619 -0.103377  0.408696  1.000000 -0.023216 -0.059225\n",
       "bola 5  0.022403 -0.283062 -0.241983 -0.023216  1.000000 -0.359677\n",
       "bola 6  0.224844  0.115291  0.515805 -0.059225 -0.359677  1.000000"
      ]
     },
     "execution_count": 17,
     "metadata": {},
     "output_type": "execute_result"
    }
   ],
   "source": [
    "# Analisando as correlações entre colunas do dataframe da mega da virada\n",
    "norm_virada.corr()\n",
    "#Melhores Correlações: 1-2 | 4-3 | 5-3 | 5-4"
   ]
  },
  {
   "cell_type": "code",
   "execution_count": 18,
   "id": "88f8b0dc",
   "metadata": {},
   "outputs": [
    {
     "data": {
      "text/html": [
       "<div>\n",
       "<style scoped>\n",
       "    .dataframe tbody tr th:only-of-type {\n",
       "        vertical-align: middle;\n",
       "    }\n",
       "\n",
       "    .dataframe tbody tr th {\n",
       "        vertical-align: top;\n",
       "    }\n",
       "\n",
       "    .dataframe thead th {\n",
       "        text-align: right;\n",
       "    }\n",
       "</style>\n",
       "<table border=\"1\" class=\"dataframe\">\n",
       "  <thead>\n",
       "    <tr style=\"text-align: right;\">\n",
       "      <th></th>\n",
       "      <th>bola 1</th>\n",
       "      <th>bola 2</th>\n",
       "      <th>bola 3</th>\n",
       "      <th>bola 4</th>\n",
       "      <th>bola 5</th>\n",
       "      <th>bola 6</th>\n",
       "    </tr>\n",
       "  </thead>\n",
       "  <tbody>\n",
       "    <tr>\n",
       "      <th>bola 1</th>\n",
       "      <td>1.000000</td>\n",
       "      <td>-0.027109</td>\n",
       "      <td>-0.093501</td>\n",
       "      <td>-0.013643</td>\n",
       "      <td>0.133565</td>\n",
       "      <td>-0.080636</td>\n",
       "    </tr>\n",
       "    <tr>\n",
       "      <th>bola 2</th>\n",
       "      <td>-0.027109</td>\n",
       "      <td>1.000000</td>\n",
       "      <td>-0.149712</td>\n",
       "      <td>-0.064944</td>\n",
       "      <td>-0.091371</td>\n",
       "      <td>0.030082</td>\n",
       "    </tr>\n",
       "    <tr>\n",
       "      <th>bola 3</th>\n",
       "      <td>-0.093501</td>\n",
       "      <td>-0.149712</td>\n",
       "      <td>1.000000</td>\n",
       "      <td>-0.015066</td>\n",
       "      <td>-0.045671</td>\n",
       "      <td>0.074262</td>\n",
       "    </tr>\n",
       "    <tr>\n",
       "      <th>bola 4</th>\n",
       "      <td>-0.013643</td>\n",
       "      <td>-0.064944</td>\n",
       "      <td>-0.015066</td>\n",
       "      <td>1.000000</td>\n",
       "      <td>-0.014534</td>\n",
       "      <td>-0.051774</td>\n",
       "    </tr>\n",
       "    <tr>\n",
       "      <th>bola 5</th>\n",
       "      <td>0.133565</td>\n",
       "      <td>-0.091371</td>\n",
       "      <td>-0.045671</td>\n",
       "      <td>-0.014534</td>\n",
       "      <td>1.000000</td>\n",
       "      <td>-0.007844</td>\n",
       "    </tr>\n",
       "    <tr>\n",
       "      <th>bola 6</th>\n",
       "      <td>-0.080636</td>\n",
       "      <td>0.030082</td>\n",
       "      <td>0.074262</td>\n",
       "      <td>-0.051774</td>\n",
       "      <td>-0.007844</td>\n",
       "      <td>1.000000</td>\n",
       "    </tr>\n",
       "  </tbody>\n",
       "</table>\n",
       "</div>"
      ],
      "text/plain": [
       "          bola 1    bola 2    bola 3    bola 4    bola 5    bola 6\n",
       "bola 1  1.000000 -0.027109 -0.093501 -0.013643  0.133565 -0.080636\n",
       "bola 2 -0.027109  1.000000 -0.149712 -0.064944 -0.091371  0.030082\n",
       "bola 3 -0.093501 -0.149712  1.000000 -0.015066 -0.045671  0.074262\n",
       "bola 4 -0.013643 -0.064944 -0.015066  1.000000 -0.014534 -0.051774\n",
       "bola 5  0.133565 -0.091371 -0.045671 -0.014534  1.000000 -0.007844\n",
       "bola 6 -0.080636  0.030082  0.074262 -0.051774 -0.007844  1.000000"
      ]
     },
     "execution_count": 18,
     "metadata": {},
     "output_type": "execute_result"
    }
   ],
   "source": [
    "# Analisando as correlações entre colunas do dataframe da megasena e mega da virada\n",
    "norm_total.corr()\n",
    "# Melhores Correlações2-1 | 3-2 2-3 | 4-3 3-4 | 5-4 4-5 | 6-5 5-6\n",
    "\n",
    "# Numeros selecionados para predição por regressão 2 e 4"
   ]
  },
  {
   "cell_type": "code",
   "execution_count": 19,
   "id": "695b31e5",
   "metadata": {},
   "outputs": [],
   "source": [
    "absolutos = [[df_total['bola 1'].mean(), df_total['bola 1'].std()],\n",
    "[df_total['bola 2'].mean(), df_total['bola 2'].std()],\n",
    "[df_total['bola 3'].mean(), df_total['bola 3'].std()],\n",
    "[df_total['bola 4'].mean(), df_total['bola 4'].std()],\n",
    "[df_total['bola 5'].mean(), df_total['bola 5'].std()],\n",
    "[df_total['bola 6'].mean(), df_total['bola 6'].std()]]"
   ]
  },
  {
   "cell_type": "code",
   "execution_count": 20,
   "id": "5fdbfe96",
   "metadata": {},
   "outputs": [],
   "source": [
    "coluna = 'bola 4'"
   ]
  },
  {
   "cell_type": "markdown",
   "id": "d2e3392e",
   "metadata": {},
   "source": [
    "# LSTM"
   ]
  },
  {
   "cell_type": "code",
   "execution_count": 21,
   "id": "386e9e4f",
   "metadata": {},
   "outputs": [
    {
     "data": {
      "text/html": [
       "<div>\n",
       "<style scoped>\n",
       "    .dataframe tbody tr th:only-of-type {\n",
       "        vertical-align: middle;\n",
       "    }\n",
       "\n",
       "    .dataframe tbody tr th {\n",
       "        vertical-align: top;\n",
       "    }\n",
       "\n",
       "    .dataframe thead th {\n",
       "        text-align: right;\n",
       "    }\n",
       "</style>\n",
       "<table border=\"1\" class=\"dataframe\">\n",
       "  <thead>\n",
       "    <tr style=\"text-align: right;\">\n",
       "      <th></th>\n",
       "      <th>bola 1</th>\n",
       "      <th>bola 2</th>\n",
       "      <th>bola 3</th>\n",
       "      <th>bola 4</th>\n",
       "      <th>bola 5</th>\n",
       "      <th>bola 6</th>\n",
       "    </tr>\n",
       "    <tr>\n",
       "      <th>Data</th>\n",
       "      <th></th>\n",
       "      <th></th>\n",
       "      <th></th>\n",
       "      <th></th>\n",
       "      <th></th>\n",
       "      <th></th>\n",
       "    </tr>\n",
       "  </thead>\n",
       "  <tbody>\n",
       "    <tr>\n",
       "      <th>2022-09-24</th>\n",
       "      <td>0.373494</td>\n",
       "      <td>0.832295</td>\n",
       "      <td>-1.677179</td>\n",
       "      <td>-0.243566</td>\n",
       "      <td>-1.267744</td>\n",
       "      <td>0.246108</td>\n",
       "    </tr>\n",
       "    <tr>\n",
       "      <th>2022-09-28</th>\n",
       "      <td>-0.500498</td>\n",
       "      <td>0.371707</td>\n",
       "      <td>-1.558841</td>\n",
       "      <td>0.555519</td>\n",
       "      <td>0.735414</td>\n",
       "      <td>-0.687757</td>\n",
       "    </tr>\n",
       "    <tr>\n",
       "      <th>2022-10-01</th>\n",
       "      <td>1.189221</td>\n",
       "      <td>0.947442</td>\n",
       "      <td>-0.493801</td>\n",
       "      <td>-0.300643</td>\n",
       "      <td>-1.085638</td>\n",
       "      <td>-1.621622</td>\n",
       "    </tr>\n",
       "    <tr>\n",
       "      <th>2022-10-05</th>\n",
       "      <td>-1.665822</td>\n",
       "      <td>1.638324</td>\n",
       "      <td>-0.316294</td>\n",
       "      <td>0.384287</td>\n",
       "      <td>-0.903533</td>\n",
       "      <td>0.654674</td>\n",
       "    </tr>\n",
       "    <tr>\n",
       "      <th>2022-10-08</th>\n",
       "      <td>1.014422</td>\n",
       "      <td>1.465603</td>\n",
       "      <td>-0.612139</td>\n",
       "      <td>0.384287</td>\n",
       "      <td>-0.114410</td>\n",
       "      <td>-1.388156</td>\n",
       "    </tr>\n",
       "    <tr>\n",
       "      <th>2022-10-13</th>\n",
       "      <td>-0.908362</td>\n",
       "      <td>1.695897</td>\n",
       "      <td>-0.434632</td>\n",
       "      <td>1.240450</td>\n",
       "      <td>1.524537</td>\n",
       "      <td>-1.621622</td>\n",
       "    </tr>\n",
       "    <tr>\n",
       "      <th>2022-10-15</th>\n",
       "      <td>-1.491024</td>\n",
       "      <td>1.523177</td>\n",
       "      <td>1.577109</td>\n",
       "      <td>1.582915</td>\n",
       "      <td>0.067695</td>\n",
       "      <td>-1.679989</td>\n",
       "    </tr>\n",
       "    <tr>\n",
       "      <th>2022-10-18</th>\n",
       "      <td>-0.966628</td>\n",
       "      <td>-0.146454</td>\n",
       "      <td>-0.730477</td>\n",
       "      <td>-0.757263</td>\n",
       "      <td>-0.053708</td>\n",
       "      <td>0.713040</td>\n",
       "    </tr>\n",
       "    <tr>\n",
       "      <th>2022-10-20</th>\n",
       "      <td>-0.733563</td>\n",
       "      <td>1.465603</td>\n",
       "      <td>-1.677179</td>\n",
       "      <td>-1.499271</td>\n",
       "      <td>1.099625</td>\n",
       "      <td>1.355073</td>\n",
       "    </tr>\n",
       "    <tr>\n",
       "      <th>2022-10-22</th>\n",
       "      <td>-0.791829</td>\n",
       "      <td>-0.952483</td>\n",
       "      <td>0.038719</td>\n",
       "      <td>-1.213884</td>\n",
       "      <td>-0.782130</td>\n",
       "      <td>-0.512658</td>\n",
       "    </tr>\n",
       "    <tr>\n",
       "      <th>2022-10-26</th>\n",
       "      <td>1.305753</td>\n",
       "      <td>-0.607042</td>\n",
       "      <td>-0.730477</td>\n",
       "      <td>0.327209</td>\n",
       "      <td>0.856818</td>\n",
       "      <td>-0.804490</td>\n",
       "    </tr>\n",
       "    <tr>\n",
       "      <th>2022-10-29</th>\n",
       "      <td>0.315228</td>\n",
       "      <td>1.465603</td>\n",
       "      <td>1.813785</td>\n",
       "      <td>-0.186488</td>\n",
       "      <td>0.796116</td>\n",
       "      <td>0.421208</td>\n",
       "    </tr>\n",
       "  </tbody>\n",
       "</table>\n",
       "</div>"
      ],
      "text/plain": [
       "              bola 1    bola 2    bola 3    bola 4    bola 5    bola 6\n",
       "Data                                                                  \n",
       "2022-09-24  0.373494  0.832295 -1.677179 -0.243566 -1.267744  0.246108\n",
       "2022-09-28 -0.500498  0.371707 -1.558841  0.555519  0.735414 -0.687757\n",
       "2022-10-01  1.189221  0.947442 -0.493801 -0.300643 -1.085638 -1.621622\n",
       "2022-10-05 -1.665822  1.638324 -0.316294  0.384287 -0.903533  0.654674\n",
       "2022-10-08  1.014422  1.465603 -0.612139  0.384287 -0.114410 -1.388156\n",
       "2022-10-13 -0.908362  1.695897 -0.434632  1.240450  1.524537 -1.621622\n",
       "2022-10-15 -1.491024  1.523177  1.577109  1.582915  0.067695 -1.679989\n",
       "2022-10-18 -0.966628 -0.146454 -0.730477 -0.757263 -0.053708  0.713040\n",
       "2022-10-20 -0.733563  1.465603 -1.677179 -1.499271  1.099625  1.355073\n",
       "2022-10-22 -0.791829 -0.952483  0.038719 -1.213884 -0.782130 -0.512658\n",
       "2022-10-26  1.305753 -0.607042 -0.730477  0.327209  0.856818 -0.804490\n",
       "2022-10-29  0.315228  1.465603  1.813785 -0.186488  0.796116  0.421208"
      ]
     },
     "execution_count": 21,
     "metadata": {},
     "output_type": "execute_result"
    }
   ],
   "source": [
    "#norm_total.reset_index(drop=True,inplace=True)\n",
    "norm_total.tail(n=12)"
   ]
  },
  {
   "cell_type": "code",
   "execution_count": 22,
   "id": "b9fd45d0",
   "metadata": {},
   "outputs": [],
   "source": [
    "look_back = 14 #tamanho da janela de predição\n",
    "init_value = 20 #a partir desse valor que iremos começar a trabalhar, o resto será desconsiderado\n",
    "\n",
    "dataframe = pd.DataFrame(norm_total[coluna].tolist(), columns = [coluna])\n",
    "dataframe = dataframe.loc[len(norm_total)-144:,:]\n",
    "dataset = dataframe.values\n",
    "dataset = dataset.astype('float32')\n",
    "\n",
    "\n",
    "# Divite os dados de treino (2/3) e teste (1/3)\n",
    "# Note que a divisão não é aleatória, mas sim sequencial\n",
    "train_size = int(len(dataset) * 0.67)\n",
    "test_size = len(dataset) - train_size\n",
    "train, test = dataset[0:train_size,:], dataset[train_size-look_back-1:len(dataset),:]"
   ]
  },
  {
   "cell_type": "code",
   "execution_count": 23,
   "id": "2e250ab2",
   "metadata": {},
   "outputs": [
    {
     "data": {
      "text/plain": [
       "((82, 14, 1), (49, 14, 1), (82, 1), (49, 1))"
      ]
     },
     "execution_count": 23,
     "metadata": {},
     "output_type": "execute_result"
    }
   ],
   "source": [
    "def create_dataset(dataset, look_back=1, std=1):\n",
    "    dataX, dataY = [], []\n",
    "    for i in range(len(dataset)-look_back):\n",
    "        a = dataset[i:(i+look_back)]-dataset[i]\n",
    "        a /= std\n",
    "        dataX.append(a)\n",
    "        dataY.append(dataset[i + look_back]-dataset[i + look_back-1])\n",
    "    return np.array(dataX), np.array(dataY)\n",
    "\n",
    "# reshape into X=t and Y=t+1\n",
    "#std = train[:, 0].std()\n",
    "trainX, trainY = create_dataset(train, look_back)\n",
    "testX, testY = create_dataset(test, look_back)\n",
    "# shape is [samples, time steps, features]\n",
    "\n",
    "trainX = trainX.reshape(-1, look_back, 1)\n",
    "testX = testX.reshape(-1, look_back, 1)\n",
    "trainY = trainY / 30\n",
    "testY = testY / 30\n",
    "\n",
    "trainX.shape, testX.shape, trainY.shape, testY.shape"
   ]
  },
  {
   "cell_type": "code",
   "execution_count": 24,
   "id": "3cc892b4",
   "metadata": {},
   "outputs": [
    {
     "name": "stdout",
     "output_type": "stream",
     "text": [
      "Model: \"sequential\"\n",
      "_________________________________________________________________\n",
      " Layer (type)                Output Shape              Param #   \n",
      "=================================================================\n",
      " lstm (LSTM)                 (None, 32)                4352      \n",
      "                                                                 \n",
      " dropout (Dropout)           (None, 32)                0         \n",
      "                                                                 \n",
      " dense (Dense)               (None, 1)                 33        \n",
      "                                                                 \n",
      "=================================================================\n",
      "Total params: 4,385\n",
      "Trainable params: 4,385\n",
      "Non-trainable params: 0\n",
      "_________________________________________________________________\n"
     ]
    }
   ],
   "source": [
    "model = Sequential()\n",
    "model.add(LSTM(32, input_shape=(look_back, 1), return_sequences=False))\n",
    "model.add(Dropout(0.2))\n",
    "model.add(Dense(1))\n",
    "model.compile(loss='mean_squared_error', optimizer='adam')\n",
    "model.summary()"
   ]
  },
  {
   "cell_type": "code",
   "execution_count": 25,
   "id": "8f23edfe",
   "metadata": {},
   "outputs": [
    {
     "name": "stderr",
     "output_type": "stream",
     "text": [
      "WARNING:absl:Found untraced functions such as lstm_cell_layer_call_fn, lstm_cell_layer_call_and_return_conditional_losses while saving (showing 2 of 2). These functions will not be directly callable after loading.\n"
     ]
    },
    {
     "name": "stdout",
     "output_type": "stream",
     "text": [
      "INFO:tensorflow:Assets written to: best.model\\assets\n"
     ]
    },
    {
     "name": "stderr",
     "output_type": "stream",
     "text": [
      "INFO:tensorflow:Assets written to: best.model\\assets\n",
      "WARNING:absl:Found untraced functions such as lstm_cell_layer_call_fn, lstm_cell_layer_call_and_return_conditional_losses while saving (showing 2 of 2). These functions will not be directly callable after loading.\n"
     ]
    },
    {
     "name": "stdout",
     "output_type": "stream",
     "text": [
      "INFO:tensorflow:Assets written to: best.model\\assets\n"
     ]
    },
    {
     "name": "stderr",
     "output_type": "stream",
     "text": [
      "INFO:tensorflow:Assets written to: best.model\\assets\n",
      "WARNING:absl:Found untraced functions such as lstm_cell_layer_call_fn, lstm_cell_layer_call_and_return_conditional_losses while saving (showing 2 of 2). These functions will not be directly callable after loading.\n"
     ]
    },
    {
     "name": "stdout",
     "output_type": "stream",
     "text": [
      "INFO:tensorflow:Assets written to: best.model\\assets\n"
     ]
    },
    {
     "name": "stderr",
     "output_type": "stream",
     "text": [
      "INFO:tensorflow:Assets written to: best.model\\assets\n",
      "WARNING:absl:Found untraced functions such as lstm_cell_layer_call_fn, lstm_cell_layer_call_and_return_conditional_losses while saving (showing 2 of 2). These functions will not be directly callable after loading.\n"
     ]
    },
    {
     "name": "stdout",
     "output_type": "stream",
     "text": [
      "INFO:tensorflow:Assets written to: best.model\\assets\n"
     ]
    },
    {
     "name": "stderr",
     "output_type": "stream",
     "text": [
      "INFO:tensorflow:Assets written to: best.model\\assets\n",
      "WARNING:absl:Found untraced functions such as lstm_cell_layer_call_fn, lstm_cell_layer_call_and_return_conditional_losses while saving (showing 2 of 2). These functions will not be directly callable after loading.\n"
     ]
    },
    {
     "name": "stdout",
     "output_type": "stream",
     "text": [
      "INFO:tensorflow:Assets written to: best.model\\assets\n"
     ]
    },
    {
     "name": "stderr",
     "output_type": "stream",
     "text": [
      "INFO:tensorflow:Assets written to: best.model\\assets\n"
     ]
    },
    {
     "name": "stdout",
     "output_type": "stream",
     "text": [
      "\n",
      "Epoch 14: ReduceLROnPlateau reducing learning rate to 0.0005000000237487257.\n"
     ]
    },
    {
     "name": "stderr",
     "output_type": "stream",
     "text": [
      "WARNING:absl:Found untraced functions such as lstm_cell_layer_call_fn, lstm_cell_layer_call_and_return_conditional_losses while saving (showing 2 of 2). These functions will not be directly callable after loading.\n"
     ]
    },
    {
     "name": "stdout",
     "output_type": "stream",
     "text": [
      "INFO:tensorflow:Assets written to: best.model\\assets\n"
     ]
    },
    {
     "name": "stderr",
     "output_type": "stream",
     "text": [
      "INFO:tensorflow:Assets written to: best.model\\assets\n",
      "WARNING:absl:Found untraced functions such as lstm_cell_layer_call_fn, lstm_cell_layer_call_and_return_conditional_losses while saving (showing 2 of 2). These functions will not be directly callable after loading.\n"
     ]
    },
    {
     "name": "stdout",
     "output_type": "stream",
     "text": [
      "INFO:tensorflow:Assets written to: best.model\\assets\n"
     ]
    },
    {
     "name": "stderr",
     "output_type": "stream",
     "text": [
      "INFO:tensorflow:Assets written to: best.model\\assets\n"
     ]
    },
    {
     "name": "stdout",
     "output_type": "stream",
     "text": [
      "\n",
      "Epoch 27: ReduceLROnPlateau reducing learning rate to 0.0002500000118743628.\n",
      "\n",
      "Epoch 37: ReduceLROnPlateau reducing learning rate to 0.0001250000059371814.\n",
      "Epoch 42: early stopping\n"
     ]
    }
   ],
   "source": [
    "callbacks = [\n",
    "    ReduceLROnPlateau(patience=10, factor=0.5, verbose=True),\n",
    "    ModelCheckpoint('best.model', save_best_only=True),\n",
    "    EarlyStopping(patience=25, verbose=True)\n",
    "]\n",
    "\n",
    "history = model.fit(trainX, trainY, epochs=5000, batch_size=12, validation_data=(testX, testY),\n",
    "                    verbose=0, callbacks=callbacks)"
   ]
  },
  {
   "cell_type": "code",
   "execution_count": 26,
   "id": "08d4ccdd",
   "metadata": {},
   "outputs": [
    {
     "name": "stdout",
     "output_type": "stream",
     "text": [
      "3/3 [==============================] - 0s 4ms/step\n",
      "2/2 [==============================] - 0s 4ms/step\n"
     ]
    }
   ],
   "source": [
    "model.load_weights('best.model')\n",
    "trainPredict = model.predict(trainX)\n",
    "testPredict = model.predict(testX)"
   ]
  },
  {
   "cell_type": "code",
   "execution_count": 27,
   "id": "bc72ad5a",
   "metadata": {},
   "outputs": [
    {
     "name": "stdout",
     "output_type": "stream",
     "text": [
      "Train Score: 0.04 RMSE\n",
      "Test Score: 0.03 RMSE\n"
     ]
    }
   ],
   "source": [
    "trainScore = math.sqrt(mean_squared_error(trainY, trainPredict[:,0]))\n",
    "print('Train Score: %.2f RMSE' % (trainScore))\n",
    "testScore = math.sqrt(mean_squared_error(testY, testPredict[:,0]))\n",
    "print('Test Score: %.2f RMSE' % (testScore))"
   ]
  },
  {
   "cell_type": "code",
   "execution_count": 28,
   "id": "b0a380c8",
   "metadata": {},
   "outputs": [
    {
     "name": "stdout",
     "output_type": "stream",
     "text": [
      "1/1 [==============================] - 0s 427ms/step\n",
      "O número que pode ser sorteado é aproximadamente:  31.401434749774612\n"
     ]
    }
   ],
   "source": [
    "# Prevendo de fato o próximo número da loteria\n",
    "lista = np.array(dataframe[coluna].tail(n=12).tolist()).reshape(1,12,1)\n",
    "testPredict = model.predict(lista)\n",
    "valor_coluna = numero_bola = int(re.findall(r'\\b\\d+\\b', coluna)[0]) - 1\n",
    "print('O número que pode ser sorteado é aproximadamente: ',testPredict[0][0] * absolutos[int(valor_coluna)][1] + absolutos[int(valor_coluna)][0])"
   ]
  },
  {
   "cell_type": "markdown",
   "id": "96c3d2ac",
   "metadata": {},
   "source": [
    "# XGB e LGBM"
   ]
  },
  {
   "cell_type": "code",
   "execution_count": 29,
   "id": "39cd0864",
   "metadata": {},
   "outputs": [],
   "source": [
    "database = norm_total\n",
    "numero_bola = 1\n",
    "#################################### Não alterar a equação abaixo\n",
    "numero_bola = numero_bola - 1\n",
    "ultimo_valor = database.tail(n=1)[coluna]"
   ]
  },
  {
   "cell_type": "code",
   "execution_count": 30,
   "id": "e3d4fe0a",
   "metadata": {},
   "outputs": [],
   "source": [
    "treino = database.loc[norm_total.index <= '2022-07-01',:].copy()\n",
    "validacao = database.loc[norm_total.index > '2022-07-01',:].copy()"
   ]
  },
  {
   "cell_type": "code",
   "execution_count": 31,
   "id": "d653f707",
   "metadata": {},
   "outputs": [
    {
     "data": {
      "text/html": [
       "<div>\n",
       "<style scoped>\n",
       "    .dataframe tbody tr th:only-of-type {\n",
       "        vertical-align: middle;\n",
       "    }\n",
       "\n",
       "    .dataframe tbody tr th {\n",
       "        vertical-align: top;\n",
       "    }\n",
       "\n",
       "    .dataframe thead th {\n",
       "        text-align: right;\n",
       "    }\n",
       "</style>\n",
       "<table border=\"1\" class=\"dataframe\">\n",
       "  <thead>\n",
       "    <tr style=\"text-align: right;\">\n",
       "      <th></th>\n",
       "      <th>bola 1</th>\n",
       "      <th>bola 2</th>\n",
       "      <th>bola 3</th>\n",
       "      <th>bola 4</th>\n",
       "      <th>bola 5</th>\n",
       "      <th>bola 6</th>\n",
       "    </tr>\n",
       "    <tr>\n",
       "      <th>Data</th>\n",
       "      <th></th>\n",
       "      <th></th>\n",
       "      <th></th>\n",
       "      <th></th>\n",
       "      <th></th>\n",
       "      <th></th>\n",
       "    </tr>\n",
       "  </thead>\n",
       "  <tbody>\n",
       "    <tr>\n",
       "      <th>2022-06-18</th>\n",
       "      <td>0.140430</td>\n",
       "      <td>-1.182777</td>\n",
       "      <td>1.340434</td>\n",
       "      <td>-0.015256</td>\n",
       "      <td>0.674713</td>\n",
       "      <td>-0.104092</td>\n",
       "    </tr>\n",
       "    <tr>\n",
       "      <th>2022-06-22</th>\n",
       "      <td>0.781358</td>\n",
       "      <td>-1.528218</td>\n",
       "      <td>1.577109</td>\n",
       "      <td>-1.270961</td>\n",
       "      <td>0.371204</td>\n",
       "      <td>0.654674</td>\n",
       "    </tr>\n",
       "    <tr>\n",
       "      <th>2022-06-25</th>\n",
       "      <td>-0.500498</td>\n",
       "      <td>-1.700938</td>\n",
       "      <td>1.458772</td>\n",
       "      <td>-1.556349</td>\n",
       "      <td>-1.267744</td>\n",
       "      <td>1.238340</td>\n",
       "    </tr>\n",
       "    <tr>\n",
       "      <th>2022-06-28</th>\n",
       "      <td>0.140430</td>\n",
       "      <td>0.602001</td>\n",
       "      <td>-1.262996</td>\n",
       "      <td>-1.099729</td>\n",
       "      <td>-0.053708</td>\n",
       "      <td>-1.037957</td>\n",
       "    </tr>\n",
       "    <tr>\n",
       "      <th>2022-06-30</th>\n",
       "      <td>0.897890</td>\n",
       "      <td>0.026266</td>\n",
       "      <td>-0.197957</td>\n",
       "      <td>1.525837</td>\n",
       "      <td>0.431906</td>\n",
       "      <td>-1.446523</td>\n",
       "    </tr>\n",
       "  </tbody>\n",
       "</table>\n",
       "</div>"
      ],
      "text/plain": [
       "              bola 1    bola 2    bola 3    bola 4    bola 5    bola 6\n",
       "Data                                                                  \n",
       "2022-06-18  0.140430 -1.182777  1.340434 -0.015256  0.674713 -0.104092\n",
       "2022-06-22  0.781358 -1.528218  1.577109 -1.270961  0.371204  0.654674\n",
       "2022-06-25 -0.500498 -1.700938  1.458772 -1.556349 -1.267744  1.238340\n",
       "2022-06-28  0.140430  0.602001 -1.262996 -1.099729 -0.053708 -1.037957\n",
       "2022-06-30  0.897890  0.026266 -0.197957  1.525837  0.431906 -1.446523"
      ]
     },
     "execution_count": 31,
     "metadata": {},
     "output_type": "execute_result"
    }
   ],
   "source": [
    "treino.tail()"
   ]
  },
  {
   "cell_type": "code",
   "execution_count": 32,
   "id": "d1b42415",
   "metadata": {},
   "outputs": [],
   "source": [
    "treino['target'] = treino[coluna].shift(-1)\n",
    "validacao['target'] = validacao[coluna].shift(-1)"
   ]
  },
  {
   "cell_type": "code",
   "execution_count": 33,
   "id": "24aa5d03",
   "metadata": {},
   "outputs": [],
   "source": [
    "treino.dropna(inplace=True)\n",
    "validacao.dropna(inplace=True)"
   ]
  },
  {
   "cell_type": "code",
   "execution_count": 34,
   "id": "121557ae",
   "metadata": {},
   "outputs": [],
   "source": [
    "X_treino = treino.loc[:,[coluna]].values\n",
    "y_treino = treino.loc[:,[coluna]].values\n",
    "X_validacao = treino.loc[:,['target']].values\n",
    "y_validacao = validacao.loc[:,['target']].values"
   ]
  },
  {
   "cell_type": "markdown",
   "id": "b2480b95",
   "metadata": {},
   "source": [
    "### Predição com XGB"
   ]
  },
  {
   "cell_type": "code",
   "execution_count": 35,
   "id": "6bb616db",
   "metadata": {},
   "outputs": [
    {
     "data": {
      "text/html": [
       "<style>#sk-container-id-1 {color: black;background-color: white;}#sk-container-id-1 pre{padding: 0;}#sk-container-id-1 div.sk-toggleable {background-color: white;}#sk-container-id-1 label.sk-toggleable__label {cursor: pointer;display: block;width: 100%;margin-bottom: 0;padding: 0.3em;box-sizing: border-box;text-align: center;}#sk-container-id-1 label.sk-toggleable__label-arrow:before {content: \"▸\";float: left;margin-right: 0.25em;color: #696969;}#sk-container-id-1 label.sk-toggleable__label-arrow:hover:before {color: black;}#sk-container-id-1 div.sk-estimator:hover label.sk-toggleable__label-arrow:before {color: black;}#sk-container-id-1 div.sk-toggleable__content {max-height: 0;max-width: 0;overflow: hidden;text-align: left;background-color: #f0f8ff;}#sk-container-id-1 div.sk-toggleable__content pre {margin: 0.2em;color: black;border-radius: 0.25em;background-color: #f0f8ff;}#sk-container-id-1 input.sk-toggleable__control:checked~div.sk-toggleable__content {max-height: 200px;max-width: 100%;overflow: auto;}#sk-container-id-1 input.sk-toggleable__control:checked~label.sk-toggleable__label-arrow:before {content: \"▾\";}#sk-container-id-1 div.sk-estimator input.sk-toggleable__control:checked~label.sk-toggleable__label {background-color: #d4ebff;}#sk-container-id-1 div.sk-label input.sk-toggleable__control:checked~label.sk-toggleable__label {background-color: #d4ebff;}#sk-container-id-1 input.sk-hidden--visually {border: 0;clip: rect(1px 1px 1px 1px);clip: rect(1px, 1px, 1px, 1px);height: 1px;margin: -1px;overflow: hidden;padding: 0;position: absolute;width: 1px;}#sk-container-id-1 div.sk-estimator {font-family: monospace;background-color: #f0f8ff;border: 1px dotted black;border-radius: 0.25em;box-sizing: border-box;margin-bottom: 0.5em;}#sk-container-id-1 div.sk-estimator:hover {background-color: #d4ebff;}#sk-container-id-1 div.sk-parallel-item::after {content: \"\";width: 100%;border-bottom: 1px solid gray;flex-grow: 1;}#sk-container-id-1 div.sk-label:hover label.sk-toggleable__label {background-color: #d4ebff;}#sk-container-id-1 div.sk-serial::before {content: \"\";position: absolute;border-left: 1px solid gray;box-sizing: border-box;top: 0;bottom: 0;left: 50%;z-index: 0;}#sk-container-id-1 div.sk-serial {display: flex;flex-direction: column;align-items: center;background-color: white;padding-right: 0.2em;padding-left: 0.2em;position: relative;}#sk-container-id-1 div.sk-item {position: relative;z-index: 1;}#sk-container-id-1 div.sk-parallel {display: flex;align-items: stretch;justify-content: center;background-color: white;position: relative;}#sk-container-id-1 div.sk-item::before, #sk-container-id-1 div.sk-parallel-item::before {content: \"\";position: absolute;border-left: 1px solid gray;box-sizing: border-box;top: 0;bottom: 0;left: 50%;z-index: -1;}#sk-container-id-1 div.sk-parallel-item {display: flex;flex-direction: column;z-index: 1;position: relative;background-color: white;}#sk-container-id-1 div.sk-parallel-item:first-child::after {align-self: flex-end;width: 50%;}#sk-container-id-1 div.sk-parallel-item:last-child::after {align-self: flex-start;width: 50%;}#sk-container-id-1 div.sk-parallel-item:only-child::after {width: 0;}#sk-container-id-1 div.sk-dashed-wrapped {border: 1px dashed gray;margin: 0 0.4em 0.5em 0.4em;box-sizing: border-box;padding-bottom: 0.4em;background-color: white;}#sk-container-id-1 div.sk-label label {font-family: monospace;font-weight: bold;display: inline-block;line-height: 1.2em;}#sk-container-id-1 div.sk-label-container {text-align: center;}#sk-container-id-1 div.sk-container {/* jupyter's `normalize.less` sets `[hidden] { display: none; }` but bootstrap.min.css set `[hidden] { display: none !important; }` so we also need the `!important` here to be able to override the default hidden behavior on the sphinx rendered scikit-learn.org. See: https://github.com/scikit-learn/scikit-learn/issues/21755 */display: inline-block !important;position: relative;}#sk-container-id-1 div.sk-text-repr-fallback {display: none;}</style><div id=\"sk-container-id-1\" class=\"sk-top-container\"><div class=\"sk-text-repr-fallback\"><pre>XGBRegressor(base_score=0.5, booster=&#x27;gbtree&#x27;, callbacks=None,\n",
       "             colsample_bylevel=1, colsample_bynode=1, colsample_bytree=1,\n",
       "             early_stopping_rounds=None, enable_categorical=False,\n",
       "             eval_metric=None, gamma=0, gpu_id=-1, grow_policy=&#x27;depthwise&#x27;,\n",
       "             importance_type=None, interaction_constraints=&#x27;&#x27;,\n",
       "             learning_rate=0.300000012, max_bin=256, max_cat_to_onehot=4,\n",
       "             max_delta_step=0, max_depth=6, max_leaves=0, min_child_weight=1,\n",
       "             missing=nan, monotone_constraints=&#x27;()&#x27;, n_estimators=1000,\n",
       "             n_jobs=0, num_parallel_tree=1, predictor=&#x27;auto&#x27;, random_state=0,\n",
       "             reg_alpha=0, reg_lambda=1, ...)</pre><b>In a Jupyter environment, please rerun this cell to show the HTML representation or trust the notebook. <br />On GitHub, the HTML representation is unable to render, please try loading this page with nbviewer.org.</b></div><div class=\"sk-container\" hidden><div class=\"sk-item\"><div class=\"sk-estimator sk-toggleable\"><input class=\"sk-toggleable__control sk-hidden--visually\" id=\"sk-estimator-id-1\" type=\"checkbox\" checked><label for=\"sk-estimator-id-1\" class=\"sk-toggleable__label sk-toggleable__label-arrow\">XGBRegressor</label><div class=\"sk-toggleable__content\"><pre>XGBRegressor(base_score=0.5, booster=&#x27;gbtree&#x27;, callbacks=None,\n",
       "             colsample_bylevel=1, colsample_bynode=1, colsample_bytree=1,\n",
       "             early_stopping_rounds=None, enable_categorical=False,\n",
       "             eval_metric=None, gamma=0, gpu_id=-1, grow_policy=&#x27;depthwise&#x27;,\n",
       "             importance_type=None, interaction_constraints=&#x27;&#x27;,\n",
       "             learning_rate=0.300000012, max_bin=256, max_cat_to_onehot=4,\n",
       "             max_delta_step=0, max_depth=6, max_leaves=0, min_child_weight=1,\n",
       "             missing=nan, monotone_constraints=&#x27;()&#x27;, n_estimators=1000,\n",
       "             n_jobs=0, num_parallel_tree=1, predictor=&#x27;auto&#x27;, random_state=0,\n",
       "             reg_alpha=0, reg_lambda=1, ...)</pre></div></div></div></div></div>"
      ],
      "text/plain": [
       "XGBRegressor(base_score=0.5, booster='gbtree', callbacks=None,\n",
       "             colsample_bylevel=1, colsample_bynode=1, colsample_bytree=1,\n",
       "             early_stopping_rounds=None, enable_categorical=False,\n",
       "             eval_metric=None, gamma=0, gpu_id=-1, grow_policy='depthwise',\n",
       "             importance_type=None, interaction_constraints='',\n",
       "             learning_rate=0.300000012, max_bin=256, max_cat_to_onehot=4,\n",
       "             max_delta_step=0, max_depth=6, max_leaves=0, min_child_weight=1,\n",
       "             missing=nan, monotone_constraints='()', n_estimators=1000,\n",
       "             n_jobs=0, num_parallel_tree=1, predictor='auto', random_state=0,\n",
       "             reg_alpha=0, reg_lambda=1, ...)"
      ]
     },
     "execution_count": 35,
     "metadata": {},
     "output_type": "execute_result"
    }
   ],
   "source": [
    "modelo_xgb = XGBRegressor(objective='reg:squarederror',n_estimators=1000)\n",
    "modelo_xgb.fit(X_treino,y_treino)"
   ]
  },
  {
   "cell_type": "code",
   "execution_count": 36,
   "id": "e439da57",
   "metadata": {},
   "outputs": [],
   "source": [
    "predicao = modelo_xgb.predict(pd.Series(y_validacao[-1]))"
   ]
  },
  {
   "cell_type": "code",
   "execution_count": 37,
   "id": "7956cba2",
   "metadata": {
    "scrolled": true
   },
   "outputs": [
    {
     "name": "stdout",
     "output_type": "stream",
     "text": [
      "O número que pode ser sorteado para a bola 4 é aproximadamente:  27.379526093780395\n"
     ]
    }
   ],
   "source": [
    "print(f'O número que pode ser sorteado para a {coluna} é aproximadamente: ',predicao[0] * absolutos[numero_bola][1] + absolutos[numero_bola][0])"
   ]
  },
  {
   "cell_type": "markdown",
   "id": "8af9cc6b",
   "metadata": {},
   "source": [
    "### Predição com LGBM"
   ]
  },
  {
   "cell_type": "code",
   "execution_count": 38,
   "id": "2b86ded2",
   "metadata": {},
   "outputs": [
    {
     "data": {
      "text/html": [
       "<style>#sk-container-id-2 {color: black;background-color: white;}#sk-container-id-2 pre{padding: 0;}#sk-container-id-2 div.sk-toggleable {background-color: white;}#sk-container-id-2 label.sk-toggleable__label {cursor: pointer;display: block;width: 100%;margin-bottom: 0;padding: 0.3em;box-sizing: border-box;text-align: center;}#sk-container-id-2 label.sk-toggleable__label-arrow:before {content: \"▸\";float: left;margin-right: 0.25em;color: #696969;}#sk-container-id-2 label.sk-toggleable__label-arrow:hover:before {color: black;}#sk-container-id-2 div.sk-estimator:hover label.sk-toggleable__label-arrow:before {color: black;}#sk-container-id-2 div.sk-toggleable__content {max-height: 0;max-width: 0;overflow: hidden;text-align: left;background-color: #f0f8ff;}#sk-container-id-2 div.sk-toggleable__content pre {margin: 0.2em;color: black;border-radius: 0.25em;background-color: #f0f8ff;}#sk-container-id-2 input.sk-toggleable__control:checked~div.sk-toggleable__content {max-height: 200px;max-width: 100%;overflow: auto;}#sk-container-id-2 input.sk-toggleable__control:checked~label.sk-toggleable__label-arrow:before {content: \"▾\";}#sk-container-id-2 div.sk-estimator input.sk-toggleable__control:checked~label.sk-toggleable__label {background-color: #d4ebff;}#sk-container-id-2 div.sk-label input.sk-toggleable__control:checked~label.sk-toggleable__label {background-color: #d4ebff;}#sk-container-id-2 input.sk-hidden--visually {border: 0;clip: rect(1px 1px 1px 1px);clip: rect(1px, 1px, 1px, 1px);height: 1px;margin: -1px;overflow: hidden;padding: 0;position: absolute;width: 1px;}#sk-container-id-2 div.sk-estimator {font-family: monospace;background-color: #f0f8ff;border: 1px dotted black;border-radius: 0.25em;box-sizing: border-box;margin-bottom: 0.5em;}#sk-container-id-2 div.sk-estimator:hover {background-color: #d4ebff;}#sk-container-id-2 div.sk-parallel-item::after {content: \"\";width: 100%;border-bottom: 1px solid gray;flex-grow: 1;}#sk-container-id-2 div.sk-label:hover label.sk-toggleable__label {background-color: #d4ebff;}#sk-container-id-2 div.sk-serial::before {content: \"\";position: absolute;border-left: 1px solid gray;box-sizing: border-box;top: 0;bottom: 0;left: 50%;z-index: 0;}#sk-container-id-2 div.sk-serial {display: flex;flex-direction: column;align-items: center;background-color: white;padding-right: 0.2em;padding-left: 0.2em;position: relative;}#sk-container-id-2 div.sk-item {position: relative;z-index: 1;}#sk-container-id-2 div.sk-parallel {display: flex;align-items: stretch;justify-content: center;background-color: white;position: relative;}#sk-container-id-2 div.sk-item::before, #sk-container-id-2 div.sk-parallel-item::before {content: \"\";position: absolute;border-left: 1px solid gray;box-sizing: border-box;top: 0;bottom: 0;left: 50%;z-index: -1;}#sk-container-id-2 div.sk-parallel-item {display: flex;flex-direction: column;z-index: 1;position: relative;background-color: white;}#sk-container-id-2 div.sk-parallel-item:first-child::after {align-self: flex-end;width: 50%;}#sk-container-id-2 div.sk-parallel-item:last-child::after {align-self: flex-start;width: 50%;}#sk-container-id-2 div.sk-parallel-item:only-child::after {width: 0;}#sk-container-id-2 div.sk-dashed-wrapped {border: 1px dashed gray;margin: 0 0.4em 0.5em 0.4em;box-sizing: border-box;padding-bottom: 0.4em;background-color: white;}#sk-container-id-2 div.sk-label label {font-family: monospace;font-weight: bold;display: inline-block;line-height: 1.2em;}#sk-container-id-2 div.sk-label-container {text-align: center;}#sk-container-id-2 div.sk-container {/* jupyter's `normalize.less` sets `[hidden] { display: none; }` but bootstrap.min.css set `[hidden] { display: none !important; }` so we also need the `!important` here to be able to override the default hidden behavior on the sphinx rendered scikit-learn.org. See: https://github.com/scikit-learn/scikit-learn/issues/21755 */display: inline-block !important;position: relative;}#sk-container-id-2 div.sk-text-repr-fallback {display: none;}</style><div id=\"sk-container-id-2\" class=\"sk-top-container\"><div class=\"sk-text-repr-fallback\"><pre>LGBMRegressor()</pre><b>In a Jupyter environment, please rerun this cell to show the HTML representation or trust the notebook. <br />On GitHub, the HTML representation is unable to render, please try loading this page with nbviewer.org.</b></div><div class=\"sk-container\" hidden><div class=\"sk-item\"><div class=\"sk-estimator sk-toggleable\"><input class=\"sk-toggleable__control sk-hidden--visually\" id=\"sk-estimator-id-2\" type=\"checkbox\" checked><label for=\"sk-estimator-id-2\" class=\"sk-toggleable__label sk-toggleable__label-arrow\">LGBMRegressor</label><div class=\"sk-toggleable__content\"><pre>LGBMRegressor()</pre></div></div></div></div></div>"
      ],
      "text/plain": [
       "LGBMRegressor()"
      ]
     },
     "execution_count": 38,
     "metadata": {},
     "output_type": "execute_result"
    }
   ],
   "source": [
    "lgb = LGBMRegressor()\n",
    "lgb.fit(X_treino,y_treino.ravel())"
   ]
  },
  {
   "cell_type": "code",
   "execution_count": 39,
   "id": "e9e61c24",
   "metadata": {},
   "outputs": [
    {
     "name": "stdout",
     "output_type": "stream",
     "text": [
      "O número que pode ser sorteado para a bola 4 é aproximadamente:  28.003881171694736\n"
     ]
    }
   ],
   "source": [
    "predicao = lgb.predict(y_validacao[-1].reshape(-1,1))\n",
    "print(f'O número que pode ser sorteado para a {coluna} é aproximadamente: ',predicao[0] * absolutos[numero_bola][1] + absolutos[numero_bola][0])"
   ]
  },
  {
   "cell_type": "markdown",
   "id": "86c36b48",
   "metadata": {},
   "source": [
    "## Regressão"
   ]
  },
  {
   "cell_type": "markdown",
   "id": "287d3109",
   "metadata": {},
   "source": [
    "### Aquisição de dados e configurações"
   ]
  },
  {
   "cell_type": "code",
   "execution_count": 40,
   "id": "8fd0e129",
   "metadata": {},
   "outputs": [],
   "source": [
    "# prever a quarta bola com base nas bolas 3 e 5 que são as melhores correlacionadas\n",
    "X_4 = norm_total[['bola 3','bola 5']]\n",
    "y_4 = norm_total[['bola 4']]\n",
    "\n",
    "# prever a sexta bola com base nas bolas 1 e 5 que são as melhores correlacionadas\n",
    "X_2 = norm_total[['bola 1','bola 3']]\n",
    "y_2 = norm_total[['bola 2']]\n",
    "\n",
    "#Mude o número dos inputs caso queira prever outra sequência\n",
    "X,y = X_4,y_4\n",
    "# Aqui são os valores de X que iremos inputar no preditor para pegarmos os valores de y, ou seja das sequencias 4 ou 6\n",
    "bola_1 = 22 #valor para predizer a bola 6\n",
    "bola_3 = 19 #valor para predizer a bola 4\n",
    "bola_5 = 17 #valor para predizer a bola 6 e 4\n",
    "predict_x_inputs = [bola_3,bola_5]\n",
    "\n",
    "numero_bola = int(re.findall(r'\\b\\d+\\b', y.columns[0])[0]) - 1\n",
    "coluna = y.columns[0]\n",
    "\n",
    "#Criação de processos para treino e testes de modelos\n",
    "X_train,X_test,y_train,y_test = train_test_split(X.to_numpy(), y.to_numpy(), test_size=0.3, random_state=42)"
   ]
  },
  {
   "cell_type": "markdown",
   "id": "2deb77cb",
   "metadata": {},
   "source": [
    "### Treino e Predição Random Forest"
   ]
  },
  {
   "cell_type": "code",
   "execution_count": 41,
   "id": "89f9c8e7",
   "metadata": {},
   "outputs": [
    {
     "name": "stdout",
     "output_type": "stream",
     "text": [
      "O rmse é de: 0.45964984436498785\n"
     ]
    }
   ],
   "source": [
    "regr = RandomForestRegressor()\n",
    "regr.fit(X.to_numpy(), y.to_numpy().ravel())\n",
    "predicoes_analise = regr.predict(X_test)\n",
    "mse = mean_squared_error(y_test,predicoes_analise)\n",
    "print(f'O rmse é de: {math.sqrt(mse)}')"
   ]
  },
  {
   "cell_type": "code",
   "execution_count": 42,
   "id": "e2340704",
   "metadata": {},
   "outputs": [
    {
     "name": "stdout",
     "output_type": "stream",
     "text": [
      "O número que pode ser sorteado para a bola 4 é aproximadamente:  28.83438778185825\n"
     ]
    }
   ],
   "source": [
    "predicao = regr.predict([predict_x_inputs])\n",
    "print(f'O número que pode ser sorteado para a {coluna} é aproximadamente: ',predicao[0] * absolutos[numero_bola][1] + absolutos[numero_bola][0])"
   ]
  },
  {
   "cell_type": "markdown",
   "id": "476236e6",
   "metadata": {},
   "source": [
    "### Treino e Predição XGB"
   ]
  },
  {
   "cell_type": "code",
   "execution_count": 43,
   "id": "738a1f8d",
   "metadata": {},
   "outputs": [],
   "source": [
    "clf = XGBRegressor(eval_metric='rmsle')"
   ]
  },
  {
   "cell_type": "code",
   "execution_count": 44,
   "id": "3270fae4",
   "metadata": {},
   "outputs": [
    {
     "name": "stdout",
     "output_type": "stream",
     "text": [
      "O rmse é de: 0.15557693015187835\n"
     ]
    }
   ],
   "source": [
    "clf.fit(X,y)\n",
    "predicoes_analise = clf.predict(X_test)\n",
    "mse = mean_squared_error(y_test,predicoes_analise)\n",
    "print(f'O rmse é de: {math.sqrt(mse)}')"
   ]
  },
  {
   "cell_type": "code",
   "execution_count": 45,
   "id": "5d2ca781",
   "metadata": {},
   "outputs": [
    {
     "name": "stdout",
     "output_type": "stream",
     "text": [
      "O número que pode ser sorteado para a bola 4 é aproximadamente:  21.43261597575716\n"
     ]
    }
   ],
   "source": [
    "predicao = clf.predict(np.array([predict_x_inputs]))\n",
    "print(f'O número que pode ser sorteado para a {coluna} é aproximadamente: ',predicao[0] * absolutos[numero_bola][1] + absolutos[numero_bola][0])"
   ]
  },
  {
   "cell_type": "markdown",
   "id": "ba9799a0",
   "metadata": {},
   "source": [
    "### Treino e Predição LGBM"
   ]
  },
  {
   "cell_type": "code",
   "execution_count": 46,
   "id": "c5c099c2",
   "metadata": {},
   "outputs": [
    {
     "name": "stdout",
     "output_type": "stream",
     "text": [
      "O rmse é de: 0.8259115883762139\n"
     ]
    }
   ],
   "source": [
    "new = LGBMRegressor()\n",
    "new.fit(X,y)\n",
    "predicoes_analise = new.predict(X_test)\n",
    "mse = mean_squared_error(y_test,predicoes_analise)\n",
    "print(f'O rmse é de: {math.sqrt(mse)}')"
   ]
  },
  {
   "cell_type": "code",
   "execution_count": 47,
   "id": "02c9c54b",
   "metadata": {},
   "outputs": [
    {
     "name": "stdout",
     "output_type": "stream",
     "text": [
      "O número que pode ser sorteado para a bola 4 é aproximadamente:  21.43261597575716\n"
     ]
    }
   ],
   "source": [
    "predicao = clf.predict(np.array([predict_x_inputs]))\n",
    "print(f'O número que pode ser sorteado para a {coluna} é aproximadamente: ',predicao[0] * absolutos[numero_bola][1] + absolutos[numero_bola][0])"
   ]
  },
  {
   "cell_type": "code",
   "execution_count": null,
   "id": "96320bff",
   "metadata": {},
   "outputs": [],
   "source": []
  },
  {
   "cell_type": "code",
   "execution_count": 48,
   "id": "0b663a9d",
   "metadata": {},
   "outputs": [
    {
     "name": "stdout",
     "output_type": "stream",
     "text": [
      "Note: you may need to restart the kernel to use updated packages.\n"
     ]
    }
   ],
   "source": [
    "pip freeze --user > requirements.txt"
   ]
  },
  {
   "cell_type": "code",
   "execution_count": 54,
   "id": "7a35446f",
   "metadata": {},
   "outputs": [
    {
     "name": "stdout",
     "output_type": "stream",
     "text": [
      "8-37-26-54-42-51\n",
      "8-37-26-54-42-52\n",
      "8-37-26-54-43-51\n",
      "8-37-26-54-43-52\n",
      "8-37-26-55-42-51\n",
      "8-37-26-55-42-52\n",
      "8-37-26-55-43-51\n",
      "8-37-26-55-43-52\n",
      "8-37-26-53-42-51\n",
      "8-37-26-53-42-52\n",
      "8-37-26-53-43-51\n",
      "8-37-26-53-43-52\n",
      "8-37-27-54-42-51\n",
      "8-37-27-54-42-52\n",
      "8-37-27-54-43-51\n",
      "8-37-27-54-43-52\n",
      "8-37-27-55-42-51\n",
      "8-37-27-55-42-52\n",
      "8-37-27-55-43-51\n",
      "8-37-27-55-43-52\n",
      "8-37-27-53-42-51\n",
      "8-37-27-53-42-52\n",
      "8-37-27-53-43-51\n",
      "8-37-27-53-43-52\n",
      "8-38-26-54-42-51\n",
      "8-38-26-54-42-52\n",
      "8-38-26-54-43-51\n",
      "8-38-26-54-43-52\n",
      "8-38-26-55-42-51\n",
      "8-38-26-55-42-52\n",
      "8-38-26-55-43-51\n",
      "8-38-26-55-43-52\n",
      "8-38-26-53-42-51\n",
      "8-38-26-53-42-52\n",
      "8-38-26-53-43-51\n",
      "8-38-26-53-43-52\n",
      "8-38-27-54-42-51\n",
      "8-38-27-54-42-52\n",
      "8-38-27-54-43-51\n",
      "8-38-27-54-43-52\n",
      "8-38-27-55-42-51\n",
      "8-38-27-55-42-52\n",
      "8-38-27-55-43-51\n",
      "8-38-27-55-43-52\n",
      "8-38-27-53-42-51\n",
      "8-38-27-53-42-52\n",
      "8-38-27-53-43-51\n",
      "8-38-27-53-43-52\n",
      "8-45-26-54-42-51\n",
      "8-45-26-54-42-52\n",
      "8-45-26-54-43-51\n",
      "8-45-26-54-43-52\n",
      "8-45-26-55-42-51\n",
      "8-45-26-55-42-52\n",
      "8-45-26-55-43-51\n",
      "8-45-26-55-43-52\n",
      "8-45-26-53-42-51\n",
      "8-45-26-53-42-52\n",
      "8-45-26-53-43-51\n",
      "8-45-26-53-43-52\n",
      "8-45-27-54-42-51\n",
      "8-45-27-54-42-52\n",
      "8-45-27-54-43-51\n",
      "8-45-27-54-43-52\n",
      "8-45-27-55-42-51\n",
      "8-45-27-55-42-52\n",
      "8-45-27-55-43-51\n",
      "8-45-27-55-43-52\n",
      "8-45-27-53-42-51\n",
      "8-45-27-53-42-52\n",
      "8-45-27-53-43-51\n",
      "8-45-27-53-43-52\n",
      "8-46-26-54-42-51\n",
      "8-46-26-54-42-52\n",
      "8-46-26-54-43-51\n",
      "8-46-26-54-43-52\n",
      "8-46-26-55-42-51\n",
      "8-46-26-55-42-52\n",
      "8-46-26-55-43-51\n",
      "8-46-26-55-43-52\n",
      "8-46-26-53-42-51\n",
      "8-46-26-53-42-52\n",
      "8-46-26-53-43-51\n",
      "8-46-26-53-43-52\n",
      "8-46-27-54-42-51\n",
      "8-46-27-54-42-52\n",
      "8-46-27-54-43-51\n",
      "8-46-27-54-43-52\n",
      "8-46-27-55-42-51\n",
      "8-46-27-55-42-52\n",
      "8-46-27-55-43-51\n",
      "8-46-27-55-43-52\n",
      "8-46-27-53-42-51\n",
      "8-46-27-53-42-52\n",
      "8-46-27-53-43-51\n",
      "8-46-27-53-43-52\n"
     ]
    }
   ],
   "source": [
    "b2 = [37,38,45,46]\n",
    "b3 = [26,27]\n",
    "b4 = [54,55,53]\n",
    "b5 = [42,43]\n",
    "b6 = [51,52]\n",
    "\n",
    "for a in b2:\n",
    "    for b in b3:\n",
    "        for c in b4:\n",
    "            for d in b5:\n",
    "                for e in b6:\n",
    "                    print(f'8-{a}-{b}-{c}-{d}-{e}')"
   ]
  },
  {
   "cell_type": "code",
   "execution_count": null,
   "id": "ab0f8ca1",
   "metadata": {},
   "outputs": [],
   "source": []
  }
 ],
 "metadata": {
  "kernelspec": {
   "display_name": "Python 3 (ipykernel)",
   "language": "python",
   "name": "python3"
  },
  "language_info": {
   "codemirror_mode": {
    "name": "ipython",
    "version": 3
   },
   "file_extension": ".py",
   "mimetype": "text/x-python",
   "name": "python",
   "nbconvert_exporter": "python",
   "pygments_lexer": "ipython3",
   "version": "3.9.13"
  }
 },
 "nbformat": 4,
 "nbformat_minor": 5
}
